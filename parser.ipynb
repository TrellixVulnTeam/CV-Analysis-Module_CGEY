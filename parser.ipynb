{
 "cells": [
  {
   "cell_type": "code",
   "execution_count": 3,
   "metadata": {},
   "outputs": [],
   "source": [
    "from pdfminer.high_level import extract_text"
   ]
  },
  {
   "cell_type": "code",
   "execution_count": 11,
   "metadata": {},
   "outputs": [],
   "source": [
    "def extract_text_from_pdf(pdf_path):\n",
    "    return extract_text(pdf_path)"
   ]
  },
  {
   "cell_type": "code",
   "execution_count": 12,
   "metadata": {},
   "outputs": [
    {
     "data": {
      "text/plain": [
       "'Ayed Bada\\nSoftware engineer student\\n\\nCurrent software engineering student enrolled\\nin Higher Institute of Applied Sciences and\\nTechnology of Sousse with hands-on experience\\ngained through a student-centric.Possessing a\\nstrong passion for continuing education\\ninitiatives and working with future technology\\nleader to drive personal and professional\\ndevelopment.\\n\\nayed.bada@gmail.com\\n\\n26984757\\n\\nsousse, Chebba, Tunisie\\n\\nlinkedin.com/in/ayed-bada\\n\\ngithub.com/Ayed1010\\n\\nEDUCATION\\nSoftware engineering\\nHigher Institute of Applied Sciences and\\nTechnology of Sousse\\n09/2017 - Present, \\n\\nSKILLS\\n\\nAdaptation\\n\\nDetermination\\n\\nDiscipline\\n\\nPatience\\n\\nProblem solving\\n\\nOrganization\\n\\nNational Baccalaureate\\nAbou Kacem Chebbi high school\\n09/2016 - 06/2017, \\n\\nMahdia\\n\\nPERSONAL PROJECTS\\nGaming platform (01/2021 - 03/2021)\\n\\nSpecialty : technical\\n\\nProgramming a web platform that gathers the gamers from all the\\nworld using technolgies as Angular, NodeJS and getting familiar\\nwith GIT .\\n\\nFeeds\\n\\nObtained with honors\\n(average mark : 14.24 /\\n20)\\n\\nBurger builder (10/2020 - 12/2020)\\n\\nProgramming a web application that allows users to make their\\nown burger and you command it using technolgies as Reactjs,\\nFirebase .\\n\\nWORK EXPERIENCE\\nBackend development\\nIWARE\\n09/2021 - 10/2021, \\n\\nAchievements/Tasks\\n\\nMembership management application.\\n\\nProject and time management .\\n\\nTools: Spring Boot , MongoDB Atlas , Swagger\\n\\nTunisia-Sousse\\n\\nTECHNOLOGIES AND PROGRAMMING\\nLANGUAGES\\nC , C++,C# Java, Python, SQL,MongoDB, React\\njs,Angular, SpringBoot, Symfony, .NET, DevOps,\\nMachine Learning,Cloud.\\n\\nMultiplayer augmented reality AR game\\nIWARE\\n07/2021 - 09/2021, \\n\\nTunisia sousse\\n\\nAchievements/Tasks\\n\\nDeveloping a Spinner battle game .\\n\\nUsing unity for the game design and mechanism.\\n\\nConnecting to Photon servers for the multiplayer side.\\n\\nImplementing ARCore for the augmented reality.\\n\\nTools: Unity,Photon,ARCore,Firebase\\n\\nLANGUAGES\\n\\nArabic\\n\\nEnglish\\n\\nFrench\\n\\nINTERESTS\\n\\nEntrepreneurship\\n\\nHigh-Tech\\n\\nDiving\\n\\nCamping\\n\\n\\x0c'"
      ]
     },
     "execution_count": 12,
     "metadata": {},
     "output_type": "execute_result"
    }
   ],
   "source": [
    "extract_text_from_pdf('our_data/Ayed_s Resume.pdf')"
   ]
  }
 ],
 "metadata": {
  "interpreter": {
   "hash": "e4c10e2b9e2b6f589c2872ec43ed0f8a2d726bd41c661fccef1773aaf1be1447"
  },
  "kernelspec": {
   "display_name": "Python 3.9.9 64-bit (windows store)",
   "language": "python",
   "name": "python3"
  },
  "language_info": {
   "codemirror_mode": {
    "name": "ipython",
    "version": 3
   },
   "file_extension": ".py",
   "mimetype": "text/x-python",
   "name": "python",
   "nbconvert_exporter": "python",
   "pygments_lexer": "ipython3",
   "version": "3.9.9"
  },
  "orig_nbformat": 4
 },
 "nbformat": 4,
 "nbformat_minor": 2
}
