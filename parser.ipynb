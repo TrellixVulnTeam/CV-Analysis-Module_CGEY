{
 "cells": [
  {
   "cell_type": "code",
   "execution_count": 3,
   "metadata": {},
   "outputs": [],
   "source": [
    "from pdfminer.high_level import extract_text"
   ]
  },
  {
   "cell_type": "code",
   "execution_count": 4,
   "metadata": {},
   "outputs": [],
   "source": [
    "def extract_text_from_pdf(pdf_path):\n",
    "    txt = extract_text(pdf_path)\n",
    "    if txt:\n",
    "        return txt.replace('\\t', ' ')\n",
    "    return None"
   ]
  },
  {
   "cell_type": "code",
   "execution_count": 5,
   "metadata": {},
   "outputs": [
    {
     "name": "stdout",
     "output_type": "stream",
     "text": [
      "Ayed Bada\n",
      "Software engineer student\n",
      "\n",
      "Current software engineering student enrolled\n",
      "in Higher Institute of Applied Sciences and\n",
      "Technology of Sousse with hands-on experience\n",
      "gained through a student-centric.Possessing a\n",
      "strong passion for continuing education\n",
      "initiatives and working with future technology\n",
      "leader to drive personal and professional\n",
      "development.\n",
      "\n",
      "ayed.bada@gmail.com\n",
      "\n",
      "26984757\n",
      "\n",
      "sousse, Chebba, Tunisie\n",
      "\n",
      "linkedin.com/in/ayed-bada\n",
      "\n",
      "github.com/Ayed1010\n",
      "\n",
      "EDUCATION\n",
      "Software engineering\n",
      "Higher Institute of Applied Sciences and\n",
      "Technology of Sousse\n",
      "09/2017 - Present, \n",
      "\n",
      "SKILLS\n",
      "\n",
      "Adaptation\n",
      "\n",
      "Determination\n",
      "\n",
      "Discipline\n",
      "\n",
      "Patience\n",
      "\n",
      "Problem solving\n",
      "\n",
      "Organization\n",
      "\n",
      "National Baccalaureate\n",
      "Abou Kacem Chebbi high school\n",
      "09/2016 - 06/2017, \n",
      "\n",
      "Mahdia\n",
      "\n",
      "PERSONAL PROJECTS\n",
      "Gaming platform (01/2021 - 03/2021)\n",
      "\n",
      "Specialty : technical\n",
      "\n",
      "Programming a web platform that gathers the gamers from all the\n",
      "world using technolgies as Angular, NodeJS and getting familiar\n",
      "with GIT .\n",
      "\n",
      "Feeds\n",
      "\n",
      "Obtained with honors\n",
      "(average mark : 14.24 /\n",
      "20)\n",
      "\n",
      "Burger builder (10/2020 - 12/2020)\n",
      "\n",
      "Programming a web application that allows users to make their\n",
      "own burger and you command it using technolgies as Reactjs,\n",
      "Firebase .\n",
      "\n",
      "WORK EXPERIENCE\n",
      "Backend development\n",
      "IWARE\n",
      "09/2021 - 10/2021, \n",
      "\n",
      "Achievements/Tasks\n",
      "\n",
      "Membership management application.\n",
      "\n",
      "Project and time management .\n",
      "\n",
      "Tools: Spring Boot , MongoDB Atlas , Swagger\n",
      "\n",
      "Tunisia-Sousse\n",
      "\n",
      "TECHNOLOGIES AND PROGRAMMING\n",
      "LANGUAGES\n",
      "C , C++,C# Java, Python, SQL,MongoDB, React\n",
      "js,Angular, SpringBoot, Symfony, .NET, DevOps,\n",
      "Machine Learning,Cloud.\n",
      "\n",
      "Multiplayer augmented reality AR game\n",
      "IWARE\n",
      "07/2021 - 09/2021, \n",
      "\n",
      "Tunisia sousse\n",
      "\n",
      "Achievements/Tasks\n",
      "\n",
      "Developing a Spinner battle game .\n",
      "\n",
      "Using unity for the game design and mechanism.\n",
      "\n",
      "Connecting to Photon servers for the multiplayer side.\n",
      "\n",
      "Implementing ARCore for the augmented reality.\n",
      "\n",
      "Tools: Unity,Photon,ARCore,Firebase\n",
      "\n",
      "LANGUAGES\n",
      "\n",
      "Arabic\n",
      "\n",
      "English\n",
      "\n",
      "French\n",
      "\n",
      "INTERESTS\n",
      "\n",
      "Entrepreneurship\n",
      "\n",
      "High-Tech\n",
      "\n",
      "Diving\n",
      "\n",
      "Camping\n",
      "\n",
      "\f\n"
     ]
    }
   ],
   "source": [
    "print(extract_text_from_pdf('our_data/Ayed_s Resume.pdf'))"
   ]
  },
  {
   "cell_type": "code",
   "execution_count": 6,
   "metadata": {},
   "outputs": [
    {
     "name": "stdout",
     "output_type": "stream",
     "text": [
      "Requirement already satisfied: nltk in c:\\users\\eya\\appdata\\local\\packages\\pythonsoftwarefoundation.python.3.9_qbz5n2kfra8p0\\localcache\\local-packages\\python39\\site-packages (3.6.5)\n",
      "Requirement already satisfied: click in c:\\users\\eya\\appdata\\local\\packages\\pythonsoftwarefoundation.python.3.9_qbz5n2kfra8p0\\localcache\\local-packages\\python39\\site-packages (from nltk) (8.0.3)\n",
      "Requirement already satisfied: joblib in c:\\users\\eya\\appdata\\local\\packages\\pythonsoftwarefoundation.python.3.9_qbz5n2kfra8p0\\localcache\\local-packages\\python39\\site-packages (from nltk) (1.0.1)\n",
      "Requirement already satisfied: tqdm in c:\\users\\eya\\appdata\\local\\packages\\pythonsoftwarefoundation.python.3.9_qbz5n2kfra8p0\\localcache\\local-packages\\python39\\site-packages (from nltk) (4.62.1)\n",
      "Requirement already satisfied: regex>=2021.8.3 in c:\\users\\eya\\appdata\\local\\packages\\pythonsoftwarefoundation.python.3.9_qbz5n2kfra8p0\\localcache\\local-packages\\python39\\site-packages (from nltk) (2021.11.10)\n",
      "Requirement already satisfied: colorama in c:\\users\\eya\\appdata\\local\\packages\\pythonsoftwarefoundation.python.3.9_qbz5n2kfra8p0\\localcache\\local-packages\\python39\\site-packages (from click->nltk) (0.4.4)\n",
      "Note: you may need to restart the kernel to use updated packages.\n"
     ]
    }
   ],
   "source": [
    "%pip install nltk"
   ]
  }
 ],
 "metadata": {
  "interpreter": {
   "hash": "e4c10e2b9e2b6f589c2872ec43ed0f8a2d726bd41c661fccef1773aaf1be1447"
  },
  "kernelspec": {
   "display_name": "Python 3.9.9 64-bit (windows store)",
   "language": "python",
   "name": "python3"
  },
  "language_info": {
   "codemirror_mode": {
    "name": "ipython",
    "version": 3
   },
   "file_extension": ".py",
   "mimetype": "text/x-python",
   "name": "python",
   "nbconvert_exporter": "python",
   "pygments_lexer": "ipython3",
   "version": "3.9.9"
  },
  "orig_nbformat": 4
 },
 "nbformat": 4,
 "nbformat_minor": 2
}
