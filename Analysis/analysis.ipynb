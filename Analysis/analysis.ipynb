{
 "cells": [
  {
   "cell_type": "markdown",
   "metadata": {},
   "source": [
    "In this project, I am going to use spacy for entity recognition on 200 Resume \n",
    "and experiment around various NLP tools for text analysis. \n",
    "\n",
    "I have also added skills match feature so that hiring managers can follow a metric that will\n",
    "help them to decide whether they should move to the interview stage or not. \n",
    "\n",
    "I will be using two datasets; the first contains resume texts \n",
    "and the second contains skills that we will use to create an entity ruler."
   ]
  },
  {
   "cell_type": "markdown",
   "metadata": {},
   "source": [
    "## Inside the CSV\n",
    "* ID: Unique identifier and file name for the respective pdf.\n",
    "* Resume_str : Contains the resume text only in string format.\n",
    "* Resume_html : Contains the resume data in html format as present while web scrapping.\n",
    "* Category : Category of the job the resume was used to apply.\n",
    "\n",
    "## Present categories\n",
    "HR, Designer, Information-Technology, Teacher, Advocate, Business-Development, Healthcare, Fitness, Agriculture, BPO, Sales, Consultant, Digital-Media, Automobile, Chef, Finance, Apparel, Engineering, Accountant, Construction, Public-Relations, Banking, Arts, Aviation"
   ]
  },
  {
   "cell_type": "markdown",
   "metadata": {},
   "source": []
  }
 ],
 "metadata": {
  "interpreter": {
   "hash": "e4c10e2b9e2b6f589c2872ec43ed0f8a2d726bd41c661fccef1773aaf1be1447"
  },
  "kernelspec": {
   "display_name": "Python 3.9.9 64-bit (windows store)",
   "language": "python",
   "name": "python3"
  },
  "language_info": {
   "name": "python",
   "version": "3.9.9"
  },
  "orig_nbformat": 4
 },
 "nbformat": 4,
 "nbformat_minor": 2
}
